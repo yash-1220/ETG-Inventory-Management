{
  "nbformat": 4,
  "nbformat_minor": 0,
  "metadata": {
    "colab": {
      "name": "Untitled3.ipynb",
      "provenance": []
    },
    "kernelspec": {
      "name": "python3",
      "display_name": "Python 3"
    },
    "language_info": {
      "name": "python"
    }
  },
  "cells": [
    {
      "cell_type": "code",
      "metadata": {
        "colab": {
          "base_uri": "https://localhost:8080/"
        },
        "id": "QAm0cbwDNtc5",
        "outputId": "fdef640f-c785-4df1-bf1a-e7881758fa78"
      },
      "source": [
        "import json\n",
        "\n",
        "fd = open(\"inventory.json\",'r')\n",
        "r = fd.read()\n",
        "fd.close()\n",
        "\n",
        "inventory = json.loads(r)\n",
        "\n",
        "print(\"Welcome to our shop,\\nWe are happy to serve you !!!\")\n",
        "\n",
        "\n",
        "ui_prod = input(\"Enter the product Id: \")\n",
        "ui_quan = int(input(\"Enter the quantity of the Product: \"))\n",
        "\n",
        "if ui_prod in inventory.keys():\n",
        "  print(\"=====================================\")\n",
        "  print(\"*************************************\")\n",
        "  print(\"    product:\",inventory[ui_prod]['name'])\n",
        "  print(\"    price:\",products[ui_prod]['price'])\n",
        "  print(\"    Expiry date:\",products[ui_prod]['expiry'])\n",
        "  print(\"    Manufacturing Brand:\",products[ui_prod]['brand'])\n",
        "  print(\"=====================================\")\n",
        "  print(\"*************************************\")\n",
        "  print(\"----------BILLING DETAILS:-----------\")\n",
        "  print(\"    Total Amount: \",\"Rs.\",products[ui_prod]['price']*ui_quan,\"/-\") \n",
        "  print(\"    Have a great Day\")\n",
        "  print(\"    Thank You. Visit Again\")\n",
        "  print(\"-------------------------------------\")\n",
        "  print(\"*************************************\")\n",
        "  products[ui_prod][\"quan\"] = products[ui_prod][\"quan\"] - ui_quan\n",
        "\n",
        "else:\n",
        "  print(\"Sorry you have entered invalid product id, please enter a correct product id.\")\n",
        "\n",
        "js = json.dumps(inventory)\n",
        "\n",
        "fd = open(\"inventory.json\",'w')\n",
        "fd.write(js)\n",
        "fd.close()\n",
        "\n",
        "js = json.dumps(inventory)\n",
        "\n",
        "fd = open(\"inventory.json\",'w')\n",
        "fd.write(js)\n",
        "fd.close()\n",
        "\n",
        "sales = {1 : {'prod':ui_prod, 'quan':ui_quan, 'amount':products[ui_prod]['price']*ui_quan}}\n",
        "sal = json.dumps(sales)\n",
        "\n",
        "fd = open(\"sales.json\",'w')\n",
        "fd.write(sal)\n",
        "fd.close()\n",
        "\n"
      ],
      "execution_count": 37,
      "outputs": [
        {
          "output_type": "stream",
          "name": "stdout",
          "text": [
            "Welcome to our shop,\n",
            "We are happy to serve you !!!\n",
            "Enter the product Id: 1020\n",
            "Enter the quantity of the Product: 5\n",
            "=====================================\n",
            "*************************************\n",
            "    product: Kellogg's pringles\n",
            "    price: 85\n",
            "    Expiry date: 25 jan 2024\n",
            "    Manufacturing Brand: Kellog's\n",
            "=====================================\n",
            "*************************************\n",
            "----------BILLING DETAILS:-----------\n",
            "    Total Amount:  Rs. 425 /-\n",
            "    Have a great Day\n",
            "    Thank You. Visit Again\n",
            "-------------------------------------\n",
            "*************************************\n"
          ]
        }
      ]
    },
    {
      "cell_type": "code",
      "metadata": {
        "colab": {
          "base_uri": "https://localhost:8080/"
        },
        "id": "IMZVGPPlYudi",
        "outputId": "f79ef583-d5b5-4fd4-9617-9482c586921b"
      },
      "source": [
        "sales"
      ],
      "execution_count": 38,
      "outputs": [
        {
          "output_type": "execute_result",
          "data": {
            "text/plain": [
              "{1: {'amount': 425, 'prod': '1020', 'quan': 5}}"
            ]
          },
          "metadata": {},
          "execution_count": 38
        }
      ]
    },
    {
      "cell_type": "code",
      "metadata": {
        "id": "4uFer-I9ZRwJ"
      },
      "source": [
        ""
      ],
      "execution_count": null,
      "outputs": []
    }
  ]
}