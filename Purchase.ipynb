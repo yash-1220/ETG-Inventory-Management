{
  "nbformat": 4,
  "nbformat_minor": 0,
  "metadata": {
    "colab": {
      "name": "Untitled5.ipynb",
      "provenance": []
    },
    "kernelspec": {
      "name": "python3",
      "display_name": "Python 3"
    },
    "language_info": {
      "name": "python"
    }
  },
  "cells": [
    {
      "cell_type": "code",
      "metadata": {
        "colab": {
          "base_uri": "https://localhost:8080/"
        },
        "id": "RuLZe6_vYmXf",
        "outputId": "871b9584-4272-486d-90d3-f4f4218dd384"
      },
      "source": [
        "import json\n",
        "\n",
        "\n",
        "fd = open(\"inventory.json\",'r')\n",
        "r = fd.read()\n",
        "fd.close()\n",
        "\n",
        "inventory = json.loads(r)\n",
        "\n",
        "print(\"Welcome to our shop,\\nWe are happy to serve you !!!\")\n",
        "\n",
        "\n",
        "ui_prod = input(\"Enter the product Id: \")\n",
        "ui_quan = int(input(\"Enter the quantity of the Product: \"))\n",
        "\n",
        "if ui_prod in inventory.keys():\n",
        "  print(\"=====================================\")\n",
        "  print(\"*************************************\")\n",
        "  print(\"    product:\",inventory[ui_prod]['name'])\n",
        "  print(\"    price:\",inventory[ui_prod]['price'])\n",
        "  print(\"    Expiry date:\",inventory[ui_prod]['expiry'])\n",
        "  print(\"    Manufacturing Brand:\",inventory[ui_prod]['brand'])\n",
        "  print(\"=====================================\")\n",
        "  print(\"*************************************\")\n",
        "  print(\"----------BILLING DETAILS:-----------\")\n",
        "  print(\"    Total Amount: \",\"Rs.\",inventory[ui_prod]['price']*ui_quan,\"/-\")\n",
        "  print(\"    Have a great Day\")\n",
        "  print(\"    Thank You. Visit Again\")\n",
        "  print(\"-------------------------------------\")\n",
        "  print(\"*************************************\")\n",
        "  inventory[ui_prod][\"quan\"] = inventory[ui_prod][\"quan\"] - ui_quan\n",
        "\n",
        "else:\n",
        "  print(\"Sorry you have entered invalid product id, please enter a correct product id.\")\n",
        "\n",
        "import time\n",
        "time.ctime()\n",
        "\n",
        "js = json.dumps(inventory)\n",
        "\n",
        "fd = open(\"inventory.json\",'w')\n",
        "fd.write(js)\n",
        "fd.close()\n",
        "\n",
        "js = json.dumps(inventory)\n",
        "\n",
        "fd = open(\"inventory.json\",'w')\n",
        "fd.write(js)\n",
        "fd.close()\n",
        "\n",
        "sales = {1 : {'prod':ui_prod, 'quan':ui_quan, 'amount':inventory[ui_prod]['price']*ui_quan}}\n",
        "sal = json.dumps(sales)\n",
        "\n",
        "fd = open(\"sales.json\",'w')\n",
        "fd.write(sal)\n",
        "fd.close()"
      ],
      "execution_count": 20,
      "outputs": [
        {
          "output_type": "stream",
          "name": "stdout",
          "text": [
            "Welcome to our shop,\n",
            "We are happy to serve you !!!\n",
            "Enter the product Id: 1027\n",
            "Enter the quantity of the Product: 1\n",
            "=====================================\n",
            "*************************************\n",
            "    product: Pepsodent Gum Care\n",
            "    price: 300\n",
            "    Expiry date: 15 jul 2022\n",
            "    Manufacturing Brand: Pepsodent\n",
            "=====================================\n",
            "*************************************\n",
            "----------BILLING DETAILS:-----------\n",
            "    Total Amount:  Rs. 300 /-\n",
            "    Have a great Day\n",
            "    Thank You. Visit Again\n",
            "-------------------------------------\n",
            "*************************************\n"
          ]
        }
      ]
    },
    {
      "cell_type": "code",
      "metadata": {
        "colab": {
          "base_uri": "https://localhost:8080/"
        },
        "id": "PobWXZEPZA81",
        "outputId": "042440de-c5f0-400e-db3a-335bbc623670"
      },
      "source": [
        "sales\n",
        " "
      ],
      "execution_count": 21,
      "outputs": [
        {
          "output_type": "execute_result",
          "data": {
            "text/plain": [
              "{1: {'amount': 300, 'prod': '1027', 'quan': 1}}"
            ]
          },
          "metadata": {},
          "execution_count": 21
        }
      ]
    },
    {
      "cell_type": "code",
      "metadata": {
        "id": "LMxdfrDDbGlf"
      },
      "source": [
        ""
      ],
      "execution_count": null,
      "outputs": []
    }
  ]
}