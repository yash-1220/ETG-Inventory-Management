{
  "nbformat": 4,
  "nbformat_minor": 0,
  "metadata": {
    "colab": {
      "name": "SummerOlympics.ipynb",
      "provenance": []
    },
    "kernelspec": {
      "name": "python3",
      "display_name": "Python 3"
    },
    "language_info": {
      "name": "python"
    }
  },
  "cells": [
    {
      "cell_type": "code",
      "metadata": {
        "id": "ENECq9f9qpzi"
      },
      "source": [
        "import pandas as pd\n",
        "import matplotlib.pyplot as plt"
      ],
      "execution_count": 3,
      "outputs": []
    },
    {
      "cell_type": "code",
      "metadata": {
        "id": "SxNmX7J5qsxg"
      },
      "source": [
        "df = pd.read_csv(\"summer.csv\")"
      ],
      "execution_count": 2,
      "outputs": []
    },
    {
      "cell_type": "code",
      "metadata": {
        "colab": {
          "base_uri": "https://localhost:8080/",
          "height": 204
        },
        "id": "h2CTe0Lfqs0T",
        "outputId": "0f13bff1-1770-40f7-dfa7-2a09ed4db90a"
      },
      "source": [
        "df.head()"
      ],
      "execution_count": null,
      "outputs": [
        {
          "output_type": "execute_result",
          "data": {
            "text/html": [
              "<div>\n",
              "<style scoped>\n",
              "    .dataframe tbody tr th:only-of-type {\n",
              "        vertical-align: middle;\n",
              "    }\n",
              "\n",
              "    .dataframe tbody tr th {\n",
              "        vertical-align: top;\n",
              "    }\n",
              "\n",
              "    .dataframe thead th {\n",
              "        text-align: right;\n",
              "    }\n",
              "</style>\n",
              "<table border=\"1\" class=\"dataframe\">\n",
              "  <thead>\n",
              "    <tr style=\"text-align: right;\">\n",
              "      <th></th>\n",
              "      <th>Year</th>\n",
              "      <th>City</th>\n",
              "      <th>Sport</th>\n",
              "      <th>Discipline</th>\n",
              "      <th>Athlete</th>\n",
              "      <th>Country</th>\n",
              "      <th>Gender</th>\n",
              "      <th>Event</th>\n",
              "      <th>Medal</th>\n",
              "    </tr>\n",
              "  </thead>\n",
              "  <tbody>\n",
              "    <tr>\n",
              "      <th>0</th>\n",
              "      <td>1896</td>\n",
              "      <td>Athens</td>\n",
              "      <td>Aquatics</td>\n",
              "      <td>Swimming</td>\n",
              "      <td>HAJOS, Alfred</td>\n",
              "      <td>HUN</td>\n",
              "      <td>Men</td>\n",
              "      <td>100M Freestyle</td>\n",
              "      <td>Gold</td>\n",
              "    </tr>\n",
              "    <tr>\n",
              "      <th>1</th>\n",
              "      <td>1896</td>\n",
              "      <td>Athens</td>\n",
              "      <td>Aquatics</td>\n",
              "      <td>Swimming</td>\n",
              "      <td>HERSCHMANN, Otto</td>\n",
              "      <td>AUT</td>\n",
              "      <td>Men</td>\n",
              "      <td>100M Freestyle</td>\n",
              "      <td>Silver</td>\n",
              "    </tr>\n",
              "    <tr>\n",
              "      <th>2</th>\n",
              "      <td>1896</td>\n",
              "      <td>Athens</td>\n",
              "      <td>Aquatics</td>\n",
              "      <td>Swimming</td>\n",
              "      <td>DRIVAS, Dimitrios</td>\n",
              "      <td>GRE</td>\n",
              "      <td>Men</td>\n",
              "      <td>100M Freestyle For Sailors</td>\n",
              "      <td>Bronze</td>\n",
              "    </tr>\n",
              "    <tr>\n",
              "      <th>3</th>\n",
              "      <td>1896</td>\n",
              "      <td>Athens</td>\n",
              "      <td>Aquatics</td>\n",
              "      <td>Swimming</td>\n",
              "      <td>MALOKINIS, Ioannis</td>\n",
              "      <td>GRE</td>\n",
              "      <td>Men</td>\n",
              "      <td>100M Freestyle For Sailors</td>\n",
              "      <td>Gold</td>\n",
              "    </tr>\n",
              "    <tr>\n",
              "      <th>4</th>\n",
              "      <td>1896</td>\n",
              "      <td>Athens</td>\n",
              "      <td>Aquatics</td>\n",
              "      <td>Swimming</td>\n",
              "      <td>CHASAPIS, Spiridon</td>\n",
              "      <td>GRE</td>\n",
              "      <td>Men</td>\n",
              "      <td>100M Freestyle For Sailors</td>\n",
              "      <td>Silver</td>\n",
              "    </tr>\n",
              "  </tbody>\n",
              "</table>\n",
              "</div>"
            ],
            "text/plain": [
              "   Year    City     Sport  ... Gender                       Event   Medal\n",
              "0  1896  Athens  Aquatics  ...    Men              100M Freestyle    Gold\n",
              "1  1896  Athens  Aquatics  ...    Men              100M Freestyle  Silver\n",
              "2  1896  Athens  Aquatics  ...    Men  100M Freestyle For Sailors  Bronze\n",
              "3  1896  Athens  Aquatics  ...    Men  100M Freestyle For Sailors    Gold\n",
              "4  1896  Athens  Aquatics  ...    Men  100M Freestyle For Sailors  Silver\n",
              "\n",
              "[5 rows x 9 columns]"
            ]
          },
          "metadata": {},
          "execution_count": 3
        }
      ]
    },
    {
      "cell_type": "markdown",
      "metadata": {
        "id": "VpfAXdarozk5"
      },
      "source": [
        "# 1. In how many cities Summer Olympics is held so far?\n"
      ]
    },
    {
      "cell_type": "code",
      "metadata": {
        "colab": {
          "base_uri": "https://localhost:8080/"
        },
        "id": "zS84F590orjB",
        "outputId": "cdf45c68-4be5-486b-8791-3efd1cf33840"
      },
      "source": [
        "print(\"1.Answer = In\", len(df[\"City\"].unique()), \"cities Summer Olympics is held.\")"
      ],
      "execution_count": null,
      "outputs": [
        {
          "output_type": "stream",
          "name": "stdout",
          "text": [
            "1.Answer = In 22 cities Summer Olympics is held.\n"
          ]
        }
      ]
    },
    {
      "cell_type": "markdown",
      "metadata": {
        "id": "ju3Iua2go8rI"
      },
      "source": [
        "# 2. Which sport is having most number of Gold Medals so far? (Top 5)\n"
      ]
    },
    {
      "cell_type": "code",
      "metadata": {
        "id": "t8pSQTXtovxM",
        "colab": {
          "base_uri": "https://localhost:8080/",
          "height": 350
        },
        "outputId": "7ed3ebfb-b371-4332-897f-275cf37d6e75"
      },
      "source": [
        "GoldMedals = {}\n",
        "for i in df[\"Sport\"].unique():\n",
        "    Fm = pd.DataFrame(df[df[\"Sport\"] == i])\n",
        "    GoldMedals[i] = len(Fm[Fm[\"Medal\"] == \"Gold\"])\n",
        "\n",
        "Name = list(GoldMedals.keys())\n",
        "Name.sort(reverse = True)\n",
        "NoG = list(GoldMedals.values())\n",
        "NoG.sort(reverse = True)\n",
        "\n",
        "plt.figure(figsize = (10, 5))\n",
        "plt.bar(Name[:5], NoG[:5], color = \"Green\", width = 0.5)\n",
        "plt.title(\"Gold Medalists\")\n",
        "plt.xlabel(\"Sports\")\n",
        "plt.ylabel(\"Medals\")\n",
        "plt.show()"
      ],
      "execution_count": 4,
      "outputs": [
        {
          "output_type": "display_data",
          "data": {
            "image/png": "[encoded data removed]",
            "text/plain": [
              "<Figure size 720x360 with 1 Axes>"
            ]
          },
          "metadata": {
            "needs_background": "light"
          }
        }
      ]
    },
    {
      "cell_type": "markdown",
      "metadata": {
        "id": "3yLMIMI4o9LO"
      },
      "source": [
        "# 3. Which sport is having most number of medals so far? (Top 5)"
      ]
    },
    {
      "cell_type": "code",
      "metadata": {
        "id": "X3XUU_EWov3A",
        "colab": {
          "base_uri": "https://localhost:8080/",
          "height": 350
        },
        "outputId": "0ec47ec6-eacc-443f-ea13-0dde50dc01a2"
      },
      "source": [
        "Medals = {}\n",
        "for i in df[\"Sport\"].unique():\n",
        "    Fm = pd.DataFrame(df[df[\"Sport\"] == i])\n",
        "    Medals[i] = len(Fm[\"Medal\"] )\n",
        "\n",
        "Name = list(Medals.keys())\n",
        "Name.sort(reverse = True)\n",
        "NoM = list(Medals.values())\n",
        "NoM.sort(reverse = True)\n",
        "\n",
        "plt.figure(figsize = (10, 5))\n",
        "plt.bar(Name[:5], NoM[:5], color = \"Yellow\", width = 0.5)\n",
        "plt.title(\"Medalists\")\n",
        "plt.xlabel(\"Sports\")\n",
        "plt.ylabel(\"Medals\")\n",
        "plt.show()"
      ],
      "execution_count": 5,
      "outputs": [
        {
          "output_type": "display_data",
          "data": {
            "image/png": "[encoded data removed]",
            "text/plain": [
              "<Figure size 720x360 with 1 Axes>"
            ]
          },
          "metadata": {
            "needs_background": "light"
          }
        }
      ]
    },
    {
      "cell_type": "markdown",
      "metadata": {
        "id": "ujPuvqBVo9VG"
      },
      "source": [
        "# 4. Which player has won most number of medals? (Top 5)"
      ]
    },
    {
      "cell_type": "code",
      "metadata": {
        "id": "5sANLal6ov5U",
        "colab": {
          "base_uri": "https://localhost:8080/",
          "height": 352
        },
        "outputId": "199df048-4541-473e-fc80-98ff7ba64c0a"
      },
      "source": [
        "players = {}\n",
        "for i in df[\"Athlete\"].unique():\n",
        "\n",
        "    players[i] = len(df[df[\"Athlete\"] == i])\n",
        "\n",
        "NamePlayer = list(players.keys())\n",
        "NamePlayer.sort(reverse = True)\n",
        "NoM = list(players.values())\n",
        "NoM.sort(reverse = True)\n",
        "\n",
        "plt.figure(figsize = (12, 5))\n",
        "plt.bar(NamePlayer[:5], NoM[:5], color = \"Orange\", width = 0.5)\n",
        "plt.title(\"Medalists\")\n",
        "plt.xlabel(\"Sports\")\n",
        "plt.ylabel(\"Medals\")\n",
        "plt.show()"
      ],
      "execution_count": 9,
      "outputs": [
        {
          "output_type": "display_data",
          "data": {
            "image/png": "[encoded data removed]",
            "text/plain": [
              "<Figure size 864x360 with 1 Axes>"
            ]
          },
          "metadata": {
            "needs_background": "light"
          }
        }
      ]
    },
    {
      "cell_type": "markdown",
      "metadata": {
        "id": "6QKdxEEho9dn"
      },
      "source": [
        "# 5. Which player has won most number Gold Medals of medals? (Top 5)"
      ]
    },
    {
      "cell_type": "code",
      "metadata": {
        "id": "dOBfDUVZov7q",
        "colab": {
          "base_uri": "https://localhost:8080/",
          "height": 352
        },
        "outputId": "8edf9227-7e6e-4bcd-cdf4-b0f81cbdb331"
      },
      "source": [
        "GoldPlayers = {}\n",
        "for i in df[\"Athlete\"].unique():\n",
        "\n",
        "    GoldPlayers[i] = len(df[df[\"Athlete\"] == i])\n",
        "\n",
        "NamePlayer = list(GoldPlayers.keys())\n",
        "NamePlayer.sort(reverse = True)\n",
        "NoG = list(GoldPlayers.values())\n",
        "NoG.sort(reverse = True)\n",
        "\n",
        "plt.figure(figsize = (12, 5))\n",
        "plt.bar(NamePlayer[:5], NoG[:5], color = \"Brown\", width = 0.5)\n",
        "plt.title(\"Gold Medalists\")\n",
        "plt.xlabel(\"Sports\")\n",
        "plt.ylabel(\"Medals\")\n",
        "plt.show()"
      ],
      "execution_count": 11,
      "outputs": [
        {
          "output_type": "display_data",
          "data": {
            "image/png": "[encoded data removed]",
            "text/plain": [
              "<Figure size 864x360 with 1 Axes>"
            ]
          },
          "metadata": {
            "needs_background": "light"
          }
        }
      ]
    },
    {
      "cell_type": "markdown",
      "metadata": {
        "id": "Ng5gyMimo9lZ"
      },
      "source": [
        "# 6. In which year India won first Gold Medal in Summer Olympics?"
      ]
    },
    {
      "cell_type": "code",
      "metadata": {
        "id": "ZB91J5BDov93",
        "colab": {
          "base_uri": "https://localhost:8080/"
        },
        "outputId": "b517ab23-fa6a-4823-af50-57eb0609cb1f"
      },
      "source": [
        "df[df[\"Country\"] == \"IND\"][\"Year\"].head(1)"
      ],
      "execution_count": 12,
      "outputs": [
        {
          "output_type": "execute_result",
          "data": {
            "text/plain": [
              "241    1900\n",
              "Name: Year, dtype: int64"
            ]
          },
          "metadata": {},
          "execution_count": 12
        }
      ]
    },
    {
      "cell_type": "markdown",
      "metadata": {
        "id": "b8oAEUa-o9tH"
      },
      "source": [
        "# 7. Which event is most popular in terms on number of players? (Top 5)"
      ]
    },
    {
      "cell_type": "code",
      "metadata": {
        "id": "09Xp-OUAowAo",
        "colab": {
          "base_uri": "https://localhost:8080/",
          "height": 386
        },
        "outputId": "51f22fc7-18f8-494f-a1c4-51b7ed0ed2a1"
      },
      "source": [
        "Event = {}\n",
        "for i in df[\"Event\"].unique():\n",
        "\n",
        "    Event[i] = len(df[df[\"Event\"] == i])\n",
        "# print(Event)\n",
        "Name = list(Event.keys())\n",
        "Name.sort(reverse = True)\n",
        "NoP = list(Event.values())\n",
        "NoP.sort(reverse = True)\n",
        "print(Name[:5])\n",
        "print(NoP[:5])\n",
        "\n",
        "plt.figure(figsize = (10, 5))\n",
        "plt.bar(Name[:5], NoP[:5], color = \"red\", width = 0.5)\n",
        "plt.title(\"Women Gold Medalists\")\n",
        "plt.xlabel(\"Sports\")\n",
        "plt.ylabel(\"Medals\")\n",
        "plt.show()\n"
      ],
      "execution_count": 13,
      "outputs": [
        {
          "output_type": "stream",
          "name": "stdout",
          "text": [
            "['Épée, Masters', 'Épée, Amateurs And Masters', 'Épée Team', 'Épée Individual', 'York Round (100Y - 80Y - 60Y)']\n",
            "[1497, 1422, 1147, 1012, 973]\n"
          ]
        },
        {
          "output_type": "display_data",
          "data": {
            "image/png": "[encoded data removed]",
            "text/plain": [
              "<Figure size 720x360 with 1 Axes>"
            ]
          },
          "metadata": {
            "needs_background": "light"
          }
        }
      ]
    },
    {
      "cell_type": "markdown",
      "metadata": {
        "id": "w2bC3zRno9y5"
      },
      "source": [
        "# 8. Which sport is having most female Gold Medalists? (Top 5)"
      ]
    },
    {
      "cell_type": "code",
      "metadata": {
        "id": "s4ad06eBpik4",
        "colab": {
          "base_uri": "https://localhost:8080/",
          "height": 350
        },
        "outputId": "ad3d4467-4719-4850-976f-e799a2eb36d5"
      },
      "source": [
        "Wm = pd.DataFrame(df[df[\"Gender\"] == \"Women\"])\n",
        "GoldMedal_Women = {}\n",
        "\n",
        "for i in Wm[\"Sport\"].unique():\n",
        "    Fm = pd.DataFrame(Wm[Wm[\"Sport\"] == i])\n",
        "    GoldMedal_Women[i] = len(Fm[Fm[\"Medal\"] == \"Gold\"])\n",
        "\n",
        "Name = list(GoldMedal_Women.keys())\n",
        "Name.sort(reverse = True)\n",
        "NoS = list(GoldMedal_Women.values())\n",
        "NoS.sort(reverse = True)\n",
        "\n",
        "plt.figure(figsize = (10, 5))\n",
        "plt.bar(Name[:5], NoS[:5], color = \"blue\", width = 0.5)\n",
        "plt.title(\"Women Gold Medalists\")\n",
        "plt.xlabel(\"Sports\")\n",
        "plt.ylabel(\"Medals\")\n",
        "plt.show()"
      ],
      "execution_count": 14,
      "outputs": [
        {
          "output_type": "display_data",
          "data": {
            "image/png": "[encoded data removed]",
            "text/plain": [
              "<Figure size 720x360 with 1 Axes>"
            ]
          },
          "metadata": {
            "needs_background": "light"
          }
        }
      ]
    },
    {
      "cell_type": "code",
      "metadata": {
        "id": "lLXYkzZYvI8O"
      },
      "source": [
        ""
      ],
      "execution_count": null,
      "outputs": []
    }
  ]
}