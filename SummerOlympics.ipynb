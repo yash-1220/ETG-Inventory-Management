{
  "nbformat": 4,
  "nbformat_minor": 0,
  "metadata": {
    "colab": {
      "name": "SummerOlympics.ipynb",
      "provenance": []
    },
    "kernelspec": {
      "name": "python3",
      "display_name": "Python 3"
    },
    "language_info": {
      "name": "python"
    }
  },
  "cells": [
    {
      "cell_type": "code",
      "metadata": {
        "id": "ENECq9f9qpzi"
      },
      "source": [
        "import pandas as pd\n",
        "import numpy as np\n",
        "import matplotlib.pyplot as m"
      ],
      "execution_count": 16,
      "outputs": []
    },
    {
      "cell_type": "code",
      "metadata": {
        "id": "SxNmX7J5qsxg"
      },
      "source": [
        "df = pd.read_csv(\"summer.csv\")"
      ],
      "execution_count": 2,
      "outputs": []
    },
    {
      "cell_type": "code",
      "metadata": {
        "colab": {
          "base_uri": "https://localhost:8080/",
          "height": 204
        },
        "id": "h2CTe0Lfqs0T",
        "outputId": "0f13bff1-1770-40f7-dfa7-2a09ed4db90a"
      },
      "source": [
        "df.head()"
      ],
      "execution_count": null,
      "outputs": [
        {
          "output_type": "execute_result",
          "data": {
            "text/html": [
              "<div>\n",
              "<style scoped>\n",
              "    .dataframe tbody tr th:only-of-type {\n",
              "        vertical-align: middle;\n",
              "    }\n",
              "\n",
              "    .dataframe tbody tr th {\n",
              "        vertical-align: top;\n",
              "    }\n",
              "\n",
              "    .dataframe thead th {\n",
              "        text-align: right;\n",
              "    }\n",
              "</style>\n",
              "<table border=\"1\" class=\"dataframe\">\n",
              "  <thead>\n",
              "    <tr style=\"text-align: right;\">\n",
              "      <th></th>\n",
              "      <th>Year</th>\n",
              "      <th>City</th>\n",
              "      <th>Sport</th>\n",
              "      <th>Discipline</th>\n",
              "      <th>Athlete</th>\n",
              "      <th>Country</th>\n",
              "      <th>Gender</th>\n",
              "      <th>Event</th>\n",
              "      <th>Medal</th>\n",
              "    </tr>\n",
              "  </thead>\n",
              "  <tbody>\n",
              "    <tr>\n",
              "      <th>0</th>\n",
              "      <td>1896</td>\n",
              "      <td>Athens</td>\n",
              "      <td>Aquatics</td>\n",
              "      <td>Swimming</td>\n",
              "      <td>HAJOS, Alfred</td>\n",
              "      <td>HUN</td>\n",
              "      <td>Men</td>\n",
              "      <td>100M Freestyle</td>\n",
              "      <td>Gold</td>\n",
              "    </tr>\n",
              "    <tr>\n",
              "      <th>1</th>\n",
              "      <td>1896</td>\n",
              "      <td>Athens</td>\n",
              "      <td>Aquatics</td>\n",
              "      <td>Swimming</td>\n",
              "      <td>HERSCHMANN, Otto</td>\n",
              "      <td>AUT</td>\n",
              "      <td>Men</td>\n",
              "      <td>100M Freestyle</td>\n",
              "      <td>Silver</td>\n",
              "    </tr>\n",
              "    <tr>\n",
              "      <th>2</th>\n",
              "      <td>1896</td>\n",
              "      <td>Athens</td>\n",
              "      <td>Aquatics</td>\n",
              "      <td>Swimming</td>\n",
              "      <td>DRIVAS, Dimitrios</td>\n",
              "      <td>GRE</td>\n",
              "      <td>Men</td>\n",
              "      <td>100M Freestyle For Sailors</td>\n",
              "      <td>Bronze</td>\n",
              "    </tr>\n",
              "    <tr>\n",
              "      <th>3</th>\n",
              "      <td>1896</td>\n",
              "      <td>Athens</td>\n",
              "      <td>Aquatics</td>\n",
              "      <td>Swimming</td>\n",
              "      <td>MALOKINIS, Ioannis</td>\n",
              "      <td>GRE</td>\n",
              "      <td>Men</td>\n",
              "      <td>100M Freestyle For Sailors</td>\n",
              "      <td>Gold</td>\n",
              "    </tr>\n",
              "    <tr>\n",
              "      <th>4</th>\n",
              "      <td>1896</td>\n",
              "      <td>Athens</td>\n",
              "      <td>Aquatics</td>\n",
              "      <td>Swimming</td>\n",
              "      <td>CHASAPIS, Spiridon</td>\n",
              "      <td>GRE</td>\n",
              "      <td>Men</td>\n",
              "      <td>100M Freestyle For Sailors</td>\n",
              "      <td>Silver</td>\n",
              "    </tr>\n",
              "  </tbody>\n",
              "</table>\n",
              "</div>"
            ],
            "text/plain": [
              "   Year    City     Sport  ... Gender                       Event   Medal\n",
              "0  1896  Athens  Aquatics  ...    Men              100M Freestyle    Gold\n",
              "1  1896  Athens  Aquatics  ...    Men              100M Freestyle  Silver\n",
              "2  1896  Athens  Aquatics  ...    Men  100M Freestyle For Sailors  Bronze\n",
              "3  1896  Athens  Aquatics  ...    Men  100M Freestyle For Sailors    Gold\n",
              "4  1896  Athens  Aquatics  ...    Men  100M Freestyle For Sailors  Silver\n",
              "\n",
              "[5 rows x 9 columns]"
            ]
          },
          "metadata": {},
          "execution_count": 3
        }
      ]
    },
    {
      "cell_type": "markdown",
      "metadata": {
        "id": "VpfAXdarozk5"
      },
      "source": [
        "# 1. In how many cities Summer Olympics is held so far?\n"
      ]
    },
    {
      "cell_type": "code",
      "metadata": {
        "colab": {
          "base_uri": "https://localhost:8080/"
        },
        "id": "zS84F590orjB",
        "outputId": "cdf45c68-4be5-486b-8791-3efd1cf33840"
      },
      "source": [
        "print(\"1.Answer = In\", len(df[\"City\"].unique()), \"cities Summer Olympics is held.\")"
      ],
      "execution_count": null,
      "outputs": [
        {
          "output_type": "stream",
          "name": "stdout",
          "text": [
            "1.Answer = In 22 cities Summer Olympics is held.\n"
          ]
        }
      ]
    },
    {
      "cell_type": "markdown",
      "metadata": {
        "id": "ju3Iua2go8rI"
      },
      "source": [
        "# 2. Which sport is having most number of Gold Medals so far? (Top 5)\n"
      ]
    },
    {
      "cell_type": "code",
      "metadata": {
        "id": "t8pSQTXtovxM",
        "colab": {
          "base_uri": "https://localhost:8080/",
          "height": 454
        },
        "outputId": "100d03a1-e637-4c92-87d7-0d860cd165e1"
      },
      "source": [
        "x = df[df['Medal'] == 'Gold']\n",
        "gold = []\n",
        "for i in x['Sport'].unique():\n",
        "    gold.append([i, len(x[x['Sport'] == i])])\n",
        "gold = pd.DataFrame(gold, columns = ['Sport', 'Medals'])\n",
        "gold = gold.sort_values(by = 'Medals', ascending = False).head()\n",
        "gold\n",
        "\n",
        "gold.plot(x = 'Sport', y = 'Medals', kind = 'bar', color = 'gold', figsize = (6,6))"
      ],
      "execution_count": 17,
      "outputs": [
        {
          "output_type": "execute_result",
          "data": {
            "text/plain": [
              "<matplotlib.axes._subplots.AxesSubplot at 0x7f61f9dcd890>"
            ]
          },
          "metadata": {},
          "execution_count": 17
        },
        {
          "output_type": "display_data",
          "data": {
            "image/png": "[encoded data removed]",
            "text/plain": [
              "<Figure size 432x432 with 1 Axes>"
            ]
          },
          "metadata": {
            "needs_background": "light"
          }
        }
      ]
    },
    {
      "cell_type": "markdown",
      "metadata": {
        "id": "3yLMIMI4o9LO"
      },
      "source": [
        "# 3. Which sport is having most number of medals so far? (Top 5)"
      ]
    },
    {
      "cell_type": "code",
      "metadata": {
        "id": "X3XUU_EWov3A",
        "colab": {
          "base_uri": "https://localhost:8080/",
          "height": 454
        },
        "outputId": "fb16ad81-e4e7-4d41-c3f4-71a75f66e1b6"
      },
      "source": [
        "tm = []\n",
        "for m in df['Sport'].unique():\n",
        "    tm.append([m, len(df[df['Sport'] == m])])\n",
        "tm = pd.DataFrame(tm, columns = ['Sport', 'Total Medals'])\n",
        "tm = tm.sort_values(by = 'Total Medals', ascending = False).head()\n",
        "tm\n",
        "\n",
        "tm.plot(x = 'Sport', y = 'Total Medals', kind = 'bar', color = 'red', figsize = (6,6))"
      ],
      "execution_count": 18,
      "outputs": [
        {
          "output_type": "execute_result",
          "data": {
            "text/plain": [
              "<matplotlib.axes._subplots.AxesSubplot at 0x7f61f9cf2f50>"
            ]
          },
          "metadata": {},
          "execution_count": 18
        },
        {
          "output_type": "display_data",
          "data": {
            "image/png": "[encoded data removed]",
            "text/plain": [
              "<Figure size 432x432 with 1 Axes>"
            ]
          },
          "metadata": {
            "needs_background": "light"
          }
        }
      ]
    },
    {
      "cell_type": "markdown",
      "metadata": {
        "id": "ujPuvqBVo9VG"
      },
      "source": [
        "# 4. Which player has won most number of medals? (Top 5)"
      ]
    },
    {
      "cell_type": "code",
      "metadata": {
        "id": "5sANLal6ov5U",
        "colab": {
          "base_uri": "https://localhost:8080/",
          "height": 512
        },
        "outputId": "35763d49-0511-4ad0-8b8f-e9968eb7aaed"
      },
      "source": [
        "at = []\n",
        "for ap in df['Athlete'].unique():\n",
        "    at.append([ap, len(df[df['Athlete'] == ap])])\n",
        "at = pd.DataFrame(at, columns = ['Player', 'Total Medals'])\n",
        "at = at.sort_values(by = 'Total Medals', ascending = False).head()\n",
        "at\n",
        "\n",
        "at.plot(x = 'Player', y = 'Total Medals', kind = 'bar', color = 'green', figsize = (6,6))"
      ],
      "execution_count": 19,
      "outputs": [
        {
          "output_type": "execute_result",
          "data": {
            "text/plain": [
              "<matplotlib.axes._subplots.AxesSubplot at 0x7f61f9ca5f90>"
            ]
          },
          "metadata": {},
          "execution_count": 19
        },
        {
          "output_type": "display_data",
          "data": {
            "image/png": "[encoded data removed]",
            "text/plain": [
              "<Figure size 432x432 with 1 Axes>"
            ]
          },
          "metadata": {
            "needs_background": "light"
          }
        }
      ]
    },
    {
      "cell_type": "markdown",
      "metadata": {
        "id": "6QKdxEEho9dn"
      },
      "source": [
        "# 5. Which player has won most number Gold Medals of medals? (Top 5)"
      ]
    },
    {
      "cell_type": "code",
      "metadata": {
        "id": "dOBfDUVZov7q",
        "colab": {
          "base_uri": "https://localhost:8080/",
          "height": 480
        },
        "outputId": "8e71b958-85bc-4958-c449-b5091af256da"
      },
      "source": [
        "x = df[df['Medal'] == 'Gold']\n",
        "plgold = []\n",
        "for i in x['Athlete'].unique():\n",
        "    plgold.append([i, len(x[x['Athlete'] == i])])\n",
        "plgold = pd.DataFrame(plgold, columns = ['Player', 'Gold Medals'])\n",
        "plgold = plgold.sort_values(by = 'Gold Medals', ascending = False).head()\n",
        "plgold\n",
        "\n",
        "plgold.plot(x = 'Player', y = 'Gold Medals', kind = 'bar', color = 'gold', figsize = (6,6))"
      ],
      "execution_count": 20,
      "outputs": [
        {
          "output_type": "execute_result",
          "data": {
            "text/plain": [
              "<matplotlib.axes._subplots.AxesSubplot at 0x7f61f9e03810>"
            ]
          },
          "metadata": {},
          "execution_count": 20
        },
        {
          "output_type": "display_data",
          "data": {
            "image/png": "[encoded data removed]",
            "text/plain": [
              "<Figure size 432x432 with 1 Axes>"
            ]
          },
          "metadata": {
            "needs_background": "light"
          }
        }
      ]
    },
    {
      "cell_type": "markdown",
      "metadata": {
        "id": "Ng5gyMimo9lZ"
      },
      "source": [
        "# 6. In which year India won first Gold Medal in Summer Olympics?"
      ]
    },
    {
      "cell_type": "code",
      "metadata": {
        "id": "ZB91J5BDov93",
        "colab": {
          "base_uri": "https://localhost:8080/"
        },
        "outputId": "0bd454fc-128f-47e7-88b3-6aa3efaf88e1"
      },
      "source": [
        "x = df[df['Medal'] == 'Gold']\n",
        "y = x.loc[x['Country'] == 'IND']\n",
        "y.iloc[0]\n",
        "\n",
        "print(\"The first Gold Medal in Summer Olympics won by India was in the year\")\n",
        "y['Year'].iloc[0]"
      ],
      "execution_count": 21,
      "outputs": [
        {
          "output_type": "stream",
          "name": "stdout",
          "text": [
            "The first Gold Medal in Summer Olympics won by India was in the year\n"
          ]
        },
        {
          "output_type": "execute_result",
          "data": {
            "text/plain": [
              "1928"
            ]
          },
          "metadata": {},
          "execution_count": 21
        }
      ]
    },
    {
      "cell_type": "markdown",
      "metadata": {
        "id": "b8oAEUa-o9tH"
      },
      "source": [
        "# 7. Which event is most popular in terms on number of players? (Top 5)"
      ]
    },
    {
      "cell_type": "code",
      "metadata": {
        "id": "09Xp-OUAowAo",
        "colab": {
          "base_uri": "https://localhost:8080/",
          "height": 485
        },
        "outputId": "516e2729-ef22-4448-d5ea-567c6f7d3279"
      },
      "source": [
        "eve = []\n",
        "for i in df['Event'].unique():\n",
        "    eve.append([i, len(df[df['Event'] == i])])\n",
        "eve = pd.DataFrame(eve, columns = ['Event', 'Total Players'])\n",
        "eve = eve.sort_values(by = 'Total Players', ascending = False).head()\n",
        "eve\n",
        "\n",
        "eve.plot(x = 'Event', y = 'Total Players', kind = 'bar', color = 'black', figsize = (6,6))\n"
      ],
      "execution_count": 22,
      "outputs": [
        {
          "output_type": "execute_result",
          "data": {
            "text/plain": [
              "<matplotlib.axes._subplots.AxesSubplot at 0x7f61f9ba18d0>"
            ]
          },
          "metadata": {},
          "execution_count": 22
        },
        {
          "output_type": "display_data",
          "data": {
            "image/png": "[encoded data removed]",
            "text/plain": [
              "<Figure size 432x432 with 1 Axes>"
            ]
          },
          "metadata": {
            "needs_background": "light"
          }
        }
      ]
    },
    {
      "cell_type": "markdown",
      "metadata": {
        "id": "w2bC3zRno9y5"
      },
      "source": [
        "# 8. Which sport is having most female Gold Medalists? (Top 5)"
      ]
    },
    {
      "cell_type": "code",
      "metadata": {
        "id": "s4ad06eBpik4",
        "colab": {
          "base_uri": "https://localhost:8080/",
          "height": 454
        },
        "outputId": "4d0a6d63-f16f-4a58-bb6e-a3308d03a2b3"
      },
      "source": [
        "x = df[df['Medal'] == 'Gold']\n",
        "f = x[x['Gender'] == 'Women']\n",
        "wgold = []\n",
        "for i in f['Sport'].unique():\n",
        "    wgold.append([i, len(f[f['Sport'] == i])])\n",
        "wgold = pd.DataFrame(wgold, columns = ['Sport', 'Female Gold Medalists'])\n",
        "wgold = wgold.sort_values(by = 'Female Gold Medalists', ascending = False).head()\n",
        "wgold\n",
        "\n",
        "wgold.plot(x = 'Sport', y = 'Female Gold Medalists', kind = 'bar', color = 'pink', figsize = (6,6))"
      ],
      "execution_count": 23,
      "outputs": [
        {
          "output_type": "execute_result",
          "data": {
            "text/plain": [
              "<matplotlib.axes._subplots.AxesSubplot at 0x7f61fa0035d0>"
            ]
          },
          "metadata": {},
          "execution_count": 23
        },
        {
          "output_type": "display_data",
          "data": {
            "image/png": "[encoded data removed]",
            "text/plain": [
              "<Figure size 432x432 with 1 Axes>"
            ]
          },
          "metadata": {
            "needs_background": "light"
          }
        }
      ]
    },
    {
      "cell_type": "code",
      "metadata": {
        "id": "lLXYkzZYvI8O"
      },
      "source": [
        ""
      ],
      "execution_count": null,
      "outputs": []
    }
  ]
}